{
 "cells": [
  {
   "cell_type": "code",
   "execution_count": 1,
   "id": "ebd8a107",
   "metadata": {},
   "outputs": [
    {
     "name": "stderr",
     "output_type": "stream",
     "text": [
      "WARNING:absl:Compiled the loaded model, but the compiled metrics have yet to be built. `model.compile_metrics` will be empty until you train or evaluate the model.\n",
      "2025-06-07 21:02:10.730 WARNING streamlit.runtime.scriptrunner_utils.script_run_context: Thread 'MainThread': missing ScriptRunContext! This warning can be ignored when running in bare mode.\n",
      "2025-06-07 21:02:11.611 \n",
      "  \u001b[33m\u001b[1mWarning:\u001b[0m to view this Streamlit app on a browser, run it with the following\n",
      "  command:\n",
      "\n",
      "    streamlit run C:\\Users\\P SRAVANI\\AppData\\Roaming\\Python\\Python311\\site-packages\\ipykernel_launcher.py [ARGUMENTS]\n",
      "2025-06-07 21:02:11.611 Thread 'MainThread': missing ScriptRunContext! This warning can be ignored when running in bare mode.\n",
      "2025-06-07 21:02:11.612 Thread 'MainThread': missing ScriptRunContext! This warning can be ignored when running in bare mode.\n",
      "2025-06-07 21:02:11.614 Thread 'MainThread': missing ScriptRunContext! This warning can be ignored when running in bare mode.\n",
      "2025-06-07 21:02:11.615 Thread 'MainThread': missing ScriptRunContext! This warning can be ignored when running in bare mode.\n",
      "2025-06-07 21:02:11.616 Thread 'MainThread': missing ScriptRunContext! This warning can be ignored when running in bare mode.\n",
      "2025-06-07 21:02:11.618 Thread 'MainThread': missing ScriptRunContext! This warning can be ignored when running in bare mode.\n",
      "2025-06-07 21:02:11.619 Thread 'MainThread': missing ScriptRunContext! This warning can be ignored when running in bare mode.\n",
      "2025-06-07 21:02:11.620 Thread 'MainThread': missing ScriptRunContext! This warning can be ignored when running in bare mode.\n"
     ]
    }
   ],
   "source": [
    "import streamlit as st\n",
    "from tensorflow.keras.models import load_model\n",
    "from tensorflow.keras.preprocessing import image\n",
    "import numpy as np\n",
    "from PIL import Image\n",
    "\n",
    "# Load the model\n",
    "model = load_model('breast_cancer_classifier.h5')\n",
    "\n",
    "# Title\n",
    "st.title(\"🩺 Breast Cancer Cell Classification\")\n",
    "st.write(\"Upload a breast cell image to predict if it's **Malignant (Cancerous)** or **Benign (Non-Cancerous)**.\")\n",
    "\n",
    "# File upload\n",
    "uploaded_file = st.file_uploader(\"Choose a cell image\", type=[\"jpg\", \"png\", \"jpeg\"])\n",
    "\n",
    "if uploaded_file is not None:\n",
    "    # Display the uploaded image\n",
    "    img = Image.open(uploaded_file)\n",
    "    st.image(img, caption='Uploaded Image', use_column_width=True)\n",
    "\n",
    "    # Preprocess the image\n",
    "    img = img.resize((150, 150))  # Adjust if your model was trained on different size\n",
    "    img_array = image.img_to_array(img)\n",
    "    img_array = np.expand_dims(img_array, axis=0) / 255.0\n",
    "\n",
    "    # Predict\n",
    "    prediction = model.predict(img_array)\n",
    "    result = \"Malignant (Cancerous)\" if prediction[0][0] > 0.5 else \"Benign (Non-Cancerous)\"\n",
    "\n",
    "    st.subheader(f\"🧪 Prediction: {result}\")\n",
    "\n",
    "    if result == \"Malignant (Cancerous)\":\n",
    "        st.error(\"⚠️ Please consult a doctor immediately.\")\n",
    "        st.markdown(\"\"\"\n",
    "        **Medical Tips:**\n",
    "        - Follow your oncologist's advice  \n",
    "        - Schedule a biopsy or additional imaging  \n",
    "        - Avoid panic — early detection saves lives  \n",
    "        - Maintain a nutritious diet  \n",
    "        \"\"\")\n",
    "    else:\n",
    "        st.success(\"🎉 No cancer detected!\")\n",
    "        st.markdown(\"\"\"\n",
    "        **Health Tips:**\n",
    "        - Monitor regularly  \n",
    "        - Avoid stress — stay mentally calm  \n",
    "        - Apply warm compress if there’s discomfort  \n",
    "        - Use natural healing creams (consult doctor)  \n",
    "        \"\"\")\n",
    "\n"
   ]
  }
 ],
 "metadata": {
  "kernelspec": {
   "display_name": "Python 3",
   "language": "python",
   "name": "python3"
  },
  "language_info": {
   "codemirror_mode": {
    "name": "ipython",
    "version": 3
   },
   "file_extension": ".py",
   "mimetype": "text/x-python",
   "name": "python",
   "nbconvert_exporter": "python",
   "pygments_lexer": "ipython3",
   "version": "3.11.3"
  }
 },
 "nbformat": 4,
 "nbformat_minor": 5
}
