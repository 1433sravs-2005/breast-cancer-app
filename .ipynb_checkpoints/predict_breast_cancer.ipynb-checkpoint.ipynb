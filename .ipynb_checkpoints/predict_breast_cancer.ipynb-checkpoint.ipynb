{
 "cells": [
  {
   "cell_type": "code",
   "execution_count": null,
   "id": "9cdd9d95-0c07-427b-ad0c-01db3f1356a3",
   "metadata": {},
   "outputs": [],
   "source": [
    "# Step 1: Imports\n",
    "import numpy as np\n",
    "from tensorflow.keras.models import load_model\n",
    "from tensorflow.keras.preprocessing import image\n",
    "from PIL import Image\n",
    "import ipywidgets as widgets\n",
    "from IPython.display import display\n",
    "\n",
    "# Step 2: Load Model\n",
    "model = load_model('breast_cancer_classifier.h5')  # Your .h5 model must be in the same folder\n",
    "\n",
    "# Step 3: Upload Widget\n",
    "upload = widgets.FileUpload(accept='image/*', multiple=False)\n",
    "display(upload)\n",
    "\n",
    "# Step 4: Prediction Function\n",
    "def predict_image(change):\n",
    "    if len(upload.value) == 0:\n",
    "        print(\"Please upload an image first.\")\n",
    "        return\n",
    "    \n",
    "    file_info = list(upload.value.values())[0]\n",
    "    content = file_info['content']\n",
    "    \n",
    "    # Save temporarily\n",
    "    with open(\"uploaded_image.jpg\", \"wb\") as f:\n",
    "        f.write(content)\n",
    "    \n",
    "    # Preprocess image\n",
    "    img = image.load_img(\"uploaded_image.jpg\", target_size=(150,150))\n",
    "    img_array = image.img_to_array(img)\n",
    "    img_array = np.expand_dims(img_array, axis=0) / 255.0\n",
    "    \n",
    "    prediction = model.predict(img_array)\n",
    "    \n",
    "    result = \"Malignant (Cancerous)\" if prediction[0][0] > 0.5 else \"Benign (Non-Cancerous)\"\n",
    "    \n",
    "    print(f\"\\nPrediction: {result}\")\n",
    "    \n",
    "    if result == \"Malignant (Cancerous)\":\n",
    "        print(\"\\n🚨 Consult a doctor immediately!\")\n",
    "        print(\"- Follow the oncologist's advice\")\n",
    "        print(\"- Avoid self-treatment\")\n",
    "        print(\"- Maintain hydration and rest\\n\")\n",
    "    else:\n",
    "        print(\"\\n🎉 No cancer detected!\")\n",
    "        print(\"- Monitor the lump regularly\")\n",
    "        print(\"- Stay calm and healthy\\n\")\n",
    "\n",
    "# Step 5: Trigger prediction on upload\n",
    "upload.observe(predict_image, names='value')\n"
   ]
  },
  {
   "cell_type": "code",
   "execution_count": null,
   "id": "36c5fda1-b12e-4139-8cd5-a9d7cd6b8041",
   "metadata": {},
   "outputs": [],
   "source": []
  }
 ],
 "metadata": {
  "kernelspec": {
   "display_name": "Python 3 (ipykernel)",
   "language": "python",
   "name": "python3"
  },
  "language_info": {
   "codemirror_mode": {
    "name": "ipython",
    "version": 3
   },
   "file_extension": ".py",
   "mimetype": "text/x-python",
   "name": "python",
   "nbconvert_exporter": "python",
   "pygments_lexer": "ipython3",
   "version": "3.11.3"
  }
 },
 "nbformat": 4,
 "nbformat_minor": 5
}
